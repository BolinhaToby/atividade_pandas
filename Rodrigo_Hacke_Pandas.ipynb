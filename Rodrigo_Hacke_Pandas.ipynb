{
 "cells": [
  {
   "cell_type": "markdown",
   "metadata": {},
   "source": [
    "# Pandas\n",
    "## Instruções\n",
    "\n",
    "Esta tarefa será feita completamente dentro deste _Jupyter notebook_ com as respostas inseridas\n",
    "nas células fornecidas.\n",
    "Todos os imports do python que são necessários são mostrados.\n",
    "Siga as instruções deste _notebook_ para completar as tarefas.\n",
    "Certifique-se de que os arquivos CSV estão na mesma pasta deste notebook."
   ]
  },
  {
   "cell_type": "code",
   "execution_count": null,
   "metadata": {},
   "outputs": [],
   "source": [
    "# imports necessarios para completar a tarefa\n",
    "import pandas as pd"
   ]
  },
  {
   "cell_type": "markdown",
   "metadata": {},
   "source": [
    "## Questao 1: Importar um arquivo CSV\n",
    "Escreva codigo para carregar o arquivo com dados de ex-alunos, `alumni.csv` em um `DataFrame` pandas chamado de `alumni`."
   ]
  },
  {
   "cell_type": "code",
   "execution_count": null,
   "metadata": {},
   "outputs": [],
   "source": [
    "# questao 1\n",
    "\n",
    "# Carregue o dataframe para mostrá-lo, após importar o arquivo\n",
    "df"
   ]
  },
  {
   "cell_type": "markdown",
   "metadata": {},
   "source": [
    "## Questão 2: Entenda o dataset\n",
    "Use os seguintes comandos do pandas para visualizar as informações do dataset:\n",
    "a) head, b) tail, c) dtypes, d) info, e) describe"
   ]
  },
  {
   "cell_type": "code",
   "execution_count": null,
   "metadata": {},
   "outputs": [],
   "source": [
    "# a)"
   ]
  },
  {
   "cell_type": "code",
   "execution_count": null,
   "metadata": {},
   "outputs": [],
   "source": [
    "# b)"
   ]
  },
  {
   "cell_type": "code",
   "execution_count": null,
   "metadata": {},
   "outputs": [],
   "source": [
    "# c)"
   ]
  },
  {
   "cell_type": "code",
   "execution_count": null,
   "metadata": {},
   "outputs": [],
   "source": [
    "# d)"
   ]
  },
  {
   "cell_type": "code",
   "execution_count": null,
   "metadata": {},
   "outputs": [],
   "source": [
    "# e)"
   ]
  },
  {
   "cell_type": "markdown",
   "metadata": {},
   "source": [
    "## Questao 3: Limpando o dataset (parte A)\n",
    "\n",
    "a) Use o método `clean_currency` abaixo para limpar as vírculas e os cifrôes da coluna `Savings ($)` e ponha em uma nova coluna chamada `Savings`"
   ]
  },
  {
   "cell_type": "code",
   "execution_count": 1,
   "metadata": {},
   "outputs": [
    {
     "data": {
      "text/plain": [
       "66000.0"
      ]
     },
     "execution_count": 1,
     "metadata": {},
     "output_type": "execute_result"
    }
   ],
   "source": [
    "def clean_currency(curr):\n",
    "    return float(curr.replace(\",\", \"\").replace(\"$\", \"\"))\n",
    "\n",
    "clean_currency(\"$66,000\")"
   ]
  },
  {
   "cell_type": "code",
   "execution_count": null,
   "metadata": {},
   "outputs": [],
   "source": [
    "# Limpe os $ e , na coluna Savings ($) e insira na nova coluna Savings\n",
    "# após, execute um df.head() poara verificar o DataFrame\n",
    "# a)\n",
    "\n",
    "alumni.head()"
   ]
  },
  {
   "cell_type": "markdown",
   "metadata": {},
   "source": [
    "b) execute um `alumni.dtypes.Savings` para verificar se a mudança ocorreu mesmo na tabela"
   ]
  },
  {
   "cell_type": "code",
   "execution_count": null,
   "metadata": {},
   "outputs": [],
   "source": [
    "# b)"
   ]
  },
  {
   "cell_type": "markdown",
   "metadata": {},
   "source": [
    "## Questão 4: Limpando o data set - parte B\n",
    "\n",
    "a) Execute o comando `alumni[\"Gender].value_counts()` para verificar os campos \"M\" incorretos que devem ser convertidos para \"Male\""
   ]
  },
  {
   "cell_type": "code",
   "execution_count": null,
   "metadata": {},
   "outputs": [],
   "source": [
    "# a)"
   ]
  },
  {
   "cell_type": "markdown",
   "metadata": {},
   "source": [
    "b) Agora use um `.replace` na coluna `Gender` para substituir os campos com valores \"M\" incorretos. _Dica:_ devemos usar `^M$`  para restringir o padrão e capturar somente a string M. Procure a documentação do método `replace` em strings."
   ]
  },
  {
   "cell_type": "code",
   "execution_count": null,
   "metadata": {},
   "outputs": [],
   "source": [
    "# b)"
   ]
  },
  {
   "cell_type": "markdown",
   "metadata": {},
   "source": [
    "c) O replace não altera a coluna `Gender`. Você deve usar agora uma atribuição `alumni[\"Gender\"] = ` no valor que você fez o replace, para alterar a coluna"
   ]
  },
  {
   "cell_type": "code",
   "execution_count": null,
   "metadata": {},
   "outputs": [],
   "source": [
    "# c)"
   ]
  },
  {
   "cell_type": "markdown",
   "metadata": {},
   "source": [
    "d) Agora execute o comando `value_counts` novamenta na coluna `Gender` para verificar os valores corretos \"Male\" e \"Female\""
   ]
  },
  {
   "cell_type": "code",
   "execution_count": null,
   "metadata": {},
   "outputs": [],
   "source": [
    "# d)"
   ]
  },
  {
   "cell_type": "markdown",
   "metadata": {},
   "source": [
    "## Questão 5: Trabalhando com o data set\n",
    "\n",
    "a) obtenha a [mediana](https://pandas.pydata.org/docs/reference/api/pandas.DataFrame.median.html) (`median`), b) [média](https://pandas.pydata.org/docs/reference/api/pandas.DataFrame.mean.html) (`mean`) e c) [desvio padrão](https://pandas.pydata.org/docs/reference/api/pandas.DataFrame.std.html) (`std`) para a coluna `Salary`. "
   ]
  },
  {
   "cell_type": "code",
   "execution_count": null,
   "metadata": {},
   "outputs": [],
   "source": [
    "# a)"
   ]
  },
  {
   "cell_type": "code",
   "execution_count": null,
   "metadata": {},
   "outputs": [],
   "source": [
    "# b)"
   ]
  },
  {
   "cell_type": "code",
   "execution_count": null,
   "metadata": {},
   "outputs": [],
   "source": [
    "# c)"
   ]
  },
  {
   "cell_type": "markdown",
   "metadata": {},
   "source": [
    "d) Identifique que aluno pagou mais do que $15000 em taxas usando a coluna `Fee`."
   ]
  },
  {
   "cell_type": "code",
   "execution_count": null,
   "metadata": {},
   "outputs": [],
   "source": [
    "# d)"
   ]
  }
 ],
 "metadata": {
  "kernelspec": {
   "display_name": "base",
   "language": "python",
   "name": "python3"
  },
  "language_info": {
   "codemirror_mode": {
    "name": "ipython",
    "version": 3
   },
   "file_extension": ".py",
   "mimetype": "text/x-python",
   "name": "python",
   "nbconvert_exporter": "python",
   "pygments_lexer": "ipython3",
   "version": "3.11.5"
  }
 },
 "nbformat": 4,
 "nbformat_minor": 2
}
